{
  "nbformat": 4,
  "nbformat_minor": 0,
  "metadata": {
    "accelerator": "GPU",
    "colab": {
      "name": "Cat Dog Classification.ipynb",
      "provenance": [],
      "collapsed_sections": [],
      "authorship_tag": "ABX9TyMJ1j1axRndAZTx/nfI+Mgc",
      "include_colab_link": true
    },
    "kernelspec": {
      "display_name": "Python 3",
      "name": "python3"
    }
  },
  "cells": [
    {
      "cell_type": "markdown",
      "metadata": {
        "id": "view-in-github",
        "colab_type": "text"
      },
      "source": [
        "<a href=\"https://colab.research.google.com/github/harddy-bit/Cat-Dog-Classification-Using-CNN/blob/main/Cat_Dog_Classification.ipynb\" target=\"_parent\"><img src=\"https://colab.research.google.com/assets/colab-badge.svg\" alt=\"Open In Colab\"/></a>"
      ]
    },
    {
      "cell_type": "markdown",
      "metadata": {
        "id": "KA2dWYkq1G4O"
      },
      "source": [
        "# Importing Libraries"
      ]
    },
    {
      "cell_type": "code",
      "metadata": {
        "colab": {
          "base_uri": "https://localhost:8080/"
        },
        "id": "SrXtgb9YC72x",
        "outputId": "7fc972d0-cdaf-4d46-8800-fedd49e89538"
      },
      "source": [
        "from google.colab import drive\r\n",
        "drive.mount('/content/gdrive')"
      ],
      "execution_count": 1,
      "outputs": [
        {
          "output_type": "stream",
          "text": [
            "Mounted at /content/gdrive\n"
          ],
          "name": "stdout"
        }
      ]
    },
    {
      "cell_type": "code",
      "metadata": {
        "colab": {
          "base_uri": "https://localhost:8080/"
        },
        "id": "RiHAlgsxEE6Z",
        "outputId": "f564508d-d8bf-4bf1-b97a-2594110ba1ea"
      },
      "source": [
        "!nvidia-smi"
      ],
      "execution_count": 2,
      "outputs": [
        {
          "output_type": "stream",
          "text": [
            "Thu Dec 10 06:20:56 2020       \n",
            "+-----------------------------------------------------------------------------+\n",
            "| NVIDIA-SMI 455.45.01    Driver Version: 418.67       CUDA Version: 10.1     |\n",
            "|-------------------------------+----------------------+----------------------+\n",
            "| GPU  Name        Persistence-M| Bus-Id        Disp.A | Volatile Uncorr. ECC |\n",
            "| Fan  Temp  Perf  Pwr:Usage/Cap|         Memory-Usage | GPU-Util  Compute M. |\n",
            "|                               |                      |               MIG M. |\n",
            "|===============================+======================+======================|\n",
            "|   0  Tesla P100-PCIE...  Off  | 00000000:00:04.0 Off |                    0 |\n",
            "| N/A   34C    P0    25W / 250W |      0MiB / 16280MiB |      0%      Default |\n",
            "|                               |                      |                 ERR! |\n",
            "+-------------------------------+----------------------+----------------------+\n",
            "                                                                               \n",
            "+-----------------------------------------------------------------------------+\n",
            "| Processes:                                                                  |\n",
            "|  GPU   GI   CI        PID   Type   Process name                  GPU Memory |\n",
            "|        ID   ID                                                   Usage      |\n",
            "|=============================================================================|\n",
            "|  No running processes found                                                 |\n",
            "+-----------------------------------------------------------------------------+\n"
          ],
          "name": "stdout"
        }
      ]
    },
    {
      "cell_type": "code",
      "metadata": {
        "id": "z4POKNTN1LMM"
      },
      "source": [
        "import tensorflow as tf\r\n",
        "from tensorflow.keras.preprocessing.image import ImageDataGenerator"
      ],
      "execution_count": 3,
      "outputs": []
    },
    {
      "cell_type": "code",
      "metadata": {
        "colab": {
          "base_uri": "https://localhost:8080/",
          "height": 35
        },
        "id": "Ax6xydJO1UFC",
        "outputId": "bacefaa6-feaa-4cf7-ed9b-9275cdde3c82"
      },
      "source": [
        "tf.__version__"
      ],
      "execution_count": 4,
      "outputs": [
        {
          "output_type": "execute_result",
          "data": {
            "application/vnd.google.colaboratory.intrinsic+json": {
              "type": "string"
            },
            "text/plain": [
              "'2.3.0'"
            ]
          },
          "metadata": {
            "tags": []
          },
          "execution_count": 4
        }
      ]
    },
    {
      "cell_type": "markdown",
      "metadata": {
        "id": "Ihirrp9C1kAn"
      },
      "source": [
        "# Preprocessing the Training Set"
      ]
    },
    {
      "cell_type": "code",
      "metadata": {
        "colab": {
          "base_uri": "https://localhost:8080/"
        },
        "id": "-4NVXor01gGQ",
        "outputId": "2fb6b6e2-69fb-4139-9a4f-6365178063ca"
      },
      "source": [
        "train_datagen = ImageDataGenerator(rescale=1./255, shear_range=0.2, zoom_range=0.2, horizontal_flip=True)\r\n",
        "\r\n",
        "training_set = train_datagen.flow_from_directory('/content/gdrive/MyDrive/kaggle_dataset/dogs-cats-dataset/dataset/training_set',\r\n",
        "                                                 target_size=(64,64),\r\n",
        "                                                 batch_size=32,\r\n",
        "                                                 class_mode='binary')"
      ],
      "execution_count": 5,
      "outputs": [
        {
          "output_type": "stream",
          "text": [
            "Found 8000 images belonging to 2 classes.\n"
          ],
          "name": "stdout"
        }
      ]
    },
    {
      "cell_type": "markdown",
      "metadata": {
        "id": "sehJavaXnXnQ"
      },
      "source": [
        "# Preprocessing the Test set"
      ]
    },
    {
      "cell_type": "code",
      "metadata": {
        "colab": {
          "base_uri": "https://localhost:8080/"
        },
        "id": "8chq394S14YM",
        "outputId": "9064a520-3afa-4587-c198-39ab20b044f8"
      },
      "source": [
        "test_datagen = ImageDataGenerator(rescale=1./255)\r\n",
        "\r\n",
        "test_set = test_datagen.flow_from_directory('/content/gdrive/MyDrive/kaggle_dataset/dogs-cats-dataset/dataset/test_set',\r\n",
        "                                            target_size=(64,64),\r\n",
        "                                            batch_size=32,\r\n",
        "                                            class_mode='binary')"
      ],
      "execution_count": 6,
      "outputs": [
        {
          "output_type": "stream",
          "text": [
            "Found 2000 images belonging to 2 classes.\n"
          ],
          "name": "stdout"
        }
      ]
    },
    {
      "cell_type": "code",
      "metadata": {
        "id": "VOnSWXMG25Kt"
      },
      "source": [
        "from tensorflow.keras.layers import Conv2D"
      ],
      "execution_count": 7,
      "outputs": []
    },
    {
      "cell_type": "markdown",
      "metadata": {
        "id": "bXjB_kk63IU8"
      },
      "source": [
        "Building The CNN "
      ]
    },
    {
      "cell_type": "code",
      "metadata": {
        "id": "oameWUaH3GO3"
      },
      "source": [
        "cnn = tf.keras.models.Sequential()\r\n",
        "\r\n",
        "# Step 1 - Convolution\r\n",
        "cnn.add(tf.keras.layers.Conv2D(filters=32,padding=\"same\",kernel_size=3, activation='relu', input_shape=[64, 64, 3]))\r\n",
        "\r\n",
        "# Step 2 - Pooling\r\n",
        "cnn.add(tf.keras.layers.MaxPool2D(pool_size=2, strides=2))\r\n",
        "\r\n",
        "# Adding a second convolutional layer\r\n",
        "cnn.add(tf.keras.layers.Conv2D(filters=32,padding='same',kernel_size=3, activation='relu'))\r\n",
        "cnn.add(tf.keras.layers.MaxPool2D(pool_size=2, strides=2))\r\n",
        "\r\n",
        "# Step 3 - Flattening\r\n",
        "cnn.add(tf.keras.layers.Flatten())\r\n",
        "\r\n",
        "# Step 4 - Full Connection\r\n",
        "cnn.add(tf.keras.layers.Dense(units=128, activation='relu'))\r\n",
        "\r\n",
        "# Step 5 - Output Layer\r\n",
        "cnn.add(tf.keras.layers.Dense(units=1, activation='sigmoid'))"
      ],
      "execution_count": 8,
      "outputs": []
    },
    {
      "cell_type": "code",
      "metadata": {
        "colab": {
          "base_uri": "https://localhost:8080/"
        },
        "id": "Fehe8vc03mrG",
        "outputId": "643f18a2-3baa-4b60-cd5d-d277ddb0bbab"
      },
      "source": [
        "cnn.summary()"
      ],
      "execution_count": 9,
      "outputs": [
        {
          "output_type": "stream",
          "text": [
            "Model: \"sequential\"\n",
            "_________________________________________________________________\n",
            "Layer (type)                 Output Shape              Param #   \n",
            "=================================================================\n",
            "conv2d (Conv2D)              (None, 64, 64, 32)        896       \n",
            "_________________________________________________________________\n",
            "max_pooling2d (MaxPooling2D) (None, 32, 32, 32)        0         \n",
            "_________________________________________________________________\n",
            "conv2d_1 (Conv2D)            (None, 32, 32, 32)        9248      \n",
            "_________________________________________________________________\n",
            "max_pooling2d_1 (MaxPooling2 (None, 16, 16, 32)        0         \n",
            "_________________________________________________________________\n",
            "flatten (Flatten)            (None, 8192)              0         \n",
            "_________________________________________________________________\n",
            "dense (Dense)                (None, 128)               1048704   \n",
            "_________________________________________________________________\n",
            "dense_1 (Dense)              (None, 1)                 129       \n",
            "=================================================================\n",
            "Total params: 1,058,977\n",
            "Trainable params: 1,058,977\n",
            "Non-trainable params: 0\n",
            "_________________________________________________________________\n"
          ],
          "name": "stdout"
        }
      ]
    },
    {
      "cell_type": "markdown",
      "metadata": {
        "id": "zIh1EjDR_f8y"
      },
      "source": [
        "Training the CNN"
      ]
    },
    {
      "cell_type": "code",
      "metadata": {
        "colab": {
          "base_uri": "https://localhost:8080/"
        },
        "id": "Qv-ajKnf_dmx",
        "outputId": "a48c0989-756b-42da-f281-35f12c8f7cd8"
      },
      "source": [
        "# Compiling the CNN\r\n",
        "cnn.compile(optimizer='adam', loss='binary_crossentropy',metrics=['accuracy'])\r\n",
        "\r\n",
        "# Training the CNN on train set and evalute the test set\r\n",
        "cnn.fit(x=training_set, validation_data=test_set,epochs=10)"
      ],
      "execution_count": 10,
      "outputs": [
        {
          "output_type": "stream",
          "text": [
            "Epoch 1/10\n",
            "250/250 [==============================] - 1937s 8s/step - loss: 0.6810 - accuracy: 0.5665 - val_loss: 0.6373 - val_accuracy: 0.6290\n",
            "Epoch 2/10\n",
            "250/250 [==============================] - 39s 158ms/step - loss: 0.6166 - accuracy: 0.6691 - val_loss: 0.5990 - val_accuracy: 0.6760\n",
            "Epoch 3/10\n",
            "250/250 [==============================] - 38s 153ms/step - loss: 0.5670 - accuracy: 0.7071 - val_loss: 0.5436 - val_accuracy: 0.7355\n",
            "Epoch 4/10\n",
            "250/250 [==============================] - 38s 153ms/step - loss: 0.5324 - accuracy: 0.7309 - val_loss: 0.5675 - val_accuracy: 0.6975\n",
            "Epoch 5/10\n",
            "250/250 [==============================] - 38s 153ms/step - loss: 0.5153 - accuracy: 0.7418 - val_loss: 0.5216 - val_accuracy: 0.7390\n",
            "Epoch 6/10\n",
            "250/250 [==============================] - 38s 153ms/step - loss: 0.4912 - accuracy: 0.7609 - val_loss: 0.5248 - val_accuracy: 0.7440\n",
            "Epoch 7/10\n",
            "250/250 [==============================] - 38s 152ms/step - loss: 0.4733 - accuracy: 0.7731 - val_loss: 0.5378 - val_accuracy: 0.7380\n",
            "Epoch 8/10\n",
            "250/250 [==============================] - 38s 153ms/step - loss: 0.4605 - accuracy: 0.7738 - val_loss: 0.4881 - val_accuracy: 0.7640\n",
            "Epoch 9/10\n",
            "250/250 [==============================] - 38s 154ms/step - loss: 0.4508 - accuracy: 0.7879 - val_loss: 0.4667 - val_accuracy: 0.7785\n",
            "Epoch 10/10\n",
            "250/250 [==============================] - 39s 157ms/step - loss: 0.4324 - accuracy: 0.7958 - val_loss: 0.4941 - val_accuracy: 0.7685\n"
          ],
          "name": "stdout"
        },
        {
          "output_type": "execute_result",
          "data": {
            "text/plain": [
              "<tensorflow.python.keras.callbacks.History at 0x7fc2ece0b128>"
            ]
          },
          "metadata": {
            "tags": []
          },
          "execution_count": 10
        }
      ]
    },
    {
      "cell_type": "markdown",
      "metadata": {
        "id": "zmyxIDT5fu4U"
      },
      "source": [
        " save it as a h5 file"
      ]
    },
    {
      "cell_type": "code",
      "metadata": {
        "id": "GgaPfG22APjq"
      },
      "source": [
        "from tensorflow.keras.models import load_model\r\n",
        "\r\n",
        "cnn.save('/content/gdrive/MyDrive/Colab Notebooks/Cat Dog Classification/model_rcat_dog.h5')"
      ],
      "execution_count": 12,
      "outputs": []
    },
    {
      "cell_type": "code",
      "metadata": {
        "id": "yMlHOlwgf2_w"
      },
      "source": [
        "from tensorflow.keras.models import load_model\r\n",
        " \r\n",
        "# load model\r\n",
        "model = load_model('/content/gdrive/MyDrive/Colab Notebooks/Cat Dog Classification/model_rcat_dog.h5')"
      ],
      "execution_count": 13,
      "outputs": []
    },
    {
      "cell_type": "code",
      "metadata": {
        "colab": {
          "base_uri": "https://localhost:8080/"
        },
        "id": "a1aNaK6HjxGp",
        "outputId": "ac5c4587-a2dc-4862-f4af-51d5364d90bd"
      },
      "source": [
        "model.summary()"
      ],
      "execution_count": 14,
      "outputs": [
        {
          "output_type": "stream",
          "text": [
            "Model: \"sequential\"\n",
            "_________________________________________________________________\n",
            "Layer (type)                 Output Shape              Param #   \n",
            "=================================================================\n",
            "conv2d (Conv2D)              (None, 64, 64, 32)        896       \n",
            "_________________________________________________________________\n",
            "max_pooling2d (MaxPooling2D) (None, 32, 32, 32)        0         \n",
            "_________________________________________________________________\n",
            "conv2d_1 (Conv2D)            (None, 32, 32, 32)        9248      \n",
            "_________________________________________________________________\n",
            "max_pooling2d_1 (MaxPooling2 (None, 16, 16, 32)        0         \n",
            "_________________________________________________________________\n",
            "flatten (Flatten)            (None, 8192)              0         \n",
            "_________________________________________________________________\n",
            "dense (Dense)                (None, 128)               1048704   \n",
            "_________________________________________________________________\n",
            "dense_1 (Dense)              (None, 1)                 129       \n",
            "=================================================================\n",
            "Total params: 1,058,977\n",
            "Trainable params: 1,058,977\n",
            "Non-trainable params: 0\n",
            "_________________________________________________________________\n"
          ],
          "name": "stdout"
        }
      ]
    },
    {
      "cell_type": "markdown",
      "metadata": {
        "id": "a9KiK-GMj1bf"
      },
      "source": [
        "# Part 4 - Making a single prediction"
      ]
    },
    {
      "cell_type": "code",
      "metadata": {
        "id": "oS0b1cGsjy_D"
      },
      "source": [
        "import numpy as np\r\n",
        "from tensorflow.keras.preprocessing import image\r\n",
        "test_img = image.load_img('/content/gdrive/MyDrive/kaggle_dataset/dogs-cats-dataset/dataset/test_set/dogs/dog.4003.jpg',target_size= (64,64))\r\n",
        "test_img = image.img_to_array(test_img)\r\n",
        "test_img = test_img/255\r\n",
        "test_img = np.expand_dims(test_img, axis = 0)\r\n",
        "result = cnn.predict(test_img)"
      ],
      "execution_count": 19,
      "outputs": []
    },
    {
      "cell_type": "code",
      "metadata": {
        "colab": {
          "base_uri": "https://localhost:8080/"
        },
        "id": "BydltvGSl1ZT",
        "outputId": "40bff507-94b6-4a6e-c949-7b5fa088e510"
      },
      "source": [
        "result"
      ],
      "execution_count": 20,
      "outputs": [
        {
          "output_type": "execute_result",
          "data": {
            "text/plain": [
              "array([[0.9649423]], dtype=float32)"
            ]
          },
          "metadata": {
            "tags": []
          },
          "execution_count": 20
        }
      ]
    },
    {
      "cell_type": "code",
      "metadata": {
        "colab": {
          "base_uri": "https://localhost:8080/"
        },
        "id": "2EjCGrQpmAT3",
        "outputId": "15c18d9d-46ad-4cb8-f290-66ddc2e3675b"
      },
      "source": [
        "if result[0]<=0.5:\r\n",
        "    print(\"The image classified is cat\")\r\n",
        "else:\r\n",
        "    print(\"The image classified is dog\")"
      ],
      "execution_count": 21,
      "outputs": [
        {
          "output_type": "stream",
          "text": [
            "The image classified is dog\n"
          ],
          "name": "stdout"
        }
      ]
    },
    {
      "cell_type": "code",
      "metadata": {
        "id": "InkdW_Q-mDGm"
      },
      "source": [
        "import numpy as np\r\n",
        "from tensorflow.keras.preprocessing import image\r\n",
        "test_img = image.load_img('/content/gdrive/MyDrive/kaggle_dataset/dogs-cats-dataset/dataset/test_set/cats/cat.4003.jpg',target_size= (64,64))\r\n",
        "test_img = image.img_to_array(test_img)\r\n",
        "test_img = test_img/255\r\n",
        "test_img = np.expand_dims(test_img, axis = 0)\r\n",
        "result = cnn.predict(test_img)"
      ],
      "execution_count": 28,
      "outputs": []
    },
    {
      "cell_type": "code",
      "metadata": {
        "colab": {
          "base_uri": "https://localhost:8080/"
        },
        "id": "YE1FLxLWmfpD",
        "outputId": "1cb771ac-2850-49e3-971a-98e62e4a468b"
      },
      "source": [
        "result"
      ],
      "execution_count": 29,
      "outputs": [
        {
          "output_type": "execute_result",
          "data": {
            "text/plain": [
              "array([[0.3281914]], dtype=float32)"
            ]
          },
          "metadata": {
            "tags": []
          },
          "execution_count": 29
        }
      ]
    },
    {
      "cell_type": "code",
      "metadata": {
        "colab": {
          "base_uri": "https://localhost:8080/"
        },
        "id": "Rm1oZl72mgih",
        "outputId": "41af9a00-6727-4953-ee7d-f759d79fcdf7"
      },
      "source": [
        "if result[0]<=0.5:\r\n",
        "  print(\"The image classified is cat\")\r\n",
        "else:\r\n",
        "  print(\"The image classified is dog\")"
      ],
      "execution_count": 30,
      "outputs": [
        {
          "output_type": "stream",
          "text": [
            "The image classified is cat\n"
          ],
          "name": "stdout"
        }
      ]
    },
    {
      "cell_type": "code",
      "metadata": {
        "id": "pframgbNmpy-"
      },
      "source": [
        ""
      ],
      "execution_count": null,
      "outputs": []
    }
  ]
}
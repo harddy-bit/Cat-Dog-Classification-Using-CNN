{
  "nbformat": 4,
  "nbformat_minor": 0,
  "metadata": {
    "accelerator": "GPU",
    "colab": {
      "name": "Cat Dog Classification.ipynb",
      "provenance": [],
      "collapsed_sections": [],
      "toc_visible": true,
      "authorship_tag": "ABX9TyOnvnSEIek7TbLcN/n0jNrD",
      "include_colab_link": true
    },
    "kernelspec": {
      "display_name": "Python 3",
      "name": "python3"
    }
  },
  "cells": [
    {
      "cell_type": "markdown",
      "metadata": {
        "id": "view-in-github",
        "colab_type": "text"
      },
      "source": [
        "<a href=\"https://colab.research.google.com/github/harddy-bit/Cat-Dog-Classification-Using-CNN/blob/main/Cat_Dog_Classification.ipynb\" target=\"_parent\"><img src=\"https://colab.research.google.com/assets/colab-badge.svg\" alt=\"Open In Colab\"/></a>"
      ]
    },
    {
      "cell_type": "markdown",
      "metadata": {
        "id": "KA2dWYkq1G4O"
      },
      "source": [
        "# Importing Libraries"
      ]
    },
    {
      "cell_type": "code",
      "metadata": {
        "colab": {
          "base_uri": "https://localhost:8080/"
        },
        "id": "SrXtgb9YC72x",
        "outputId": "02cf1114-b94e-4f74-b1a0-e06c4b44389f"
      },
      "source": [
        "from google.colab import drive\r\n",
        "drive.mount('/content/gdrive')"
      ],
      "execution_count": 1,
      "outputs": [
        {
          "output_type": "stream",
          "text": [
            "Mounted at /content/gdrive\n"
          ],
          "name": "stdout"
        }
      ]
    },
    {
      "cell_type": "code",
      "metadata": {
        "colab": {
          "base_uri": "https://localhost:8080/"
        },
        "id": "RiHAlgsxEE6Z",
        "outputId": "65ba6215-4cef-40cb-da82-aa73dca88dbd"
      },
      "source": [
        "!nvidia-smi"
      ],
      "execution_count": 2,
      "outputs": [
        {
          "output_type": "stream",
          "text": [
            "Fri Dec 11 06:39:58 2020       \n",
            "+-----------------------------------------------------------------------------+\n",
            "| NVIDIA-SMI 455.45.01    Driver Version: 418.67       CUDA Version: 10.1     |\n",
            "|-------------------------------+----------------------+----------------------+\n",
            "| GPU  Name        Persistence-M| Bus-Id        Disp.A | Volatile Uncorr. ECC |\n",
            "| Fan  Temp  Perf  Pwr:Usage/Cap|         Memory-Usage | GPU-Util  Compute M. |\n",
            "|                               |                      |               MIG M. |\n",
            "|===============================+======================+======================|\n",
            "|   0  Tesla T4            Off  | 00000000:00:04.0 Off |                    0 |\n",
            "| N/A   53C    P8    10W /  70W |      0MiB / 15079MiB |      0%      Default |\n",
            "|                               |                      |                 ERR! |\n",
            "+-------------------------------+----------------------+----------------------+\n",
            "                                                                               \n",
            "+-----------------------------------------------------------------------------+\n",
            "| Processes:                                                                  |\n",
            "|  GPU   GI   CI        PID   Type   Process name                  GPU Memory |\n",
            "|        ID   ID                                                   Usage      |\n",
            "|=============================================================================|\n",
            "|  No running processes found                                                 |\n",
            "+-----------------------------------------------------------------------------+\n"
          ],
          "name": "stdout"
        }
      ]
    },
    {
      "cell_type": "code",
      "metadata": {
        "id": "z4POKNTN1LMM"
      },
      "source": [
        "import tensorflow as tf\r\n",
        "from tensorflow.keras.preprocessing.image import ImageDataGenerator"
      ],
      "execution_count": 3,
      "outputs": []
    },
    {
      "cell_type": "code",
      "metadata": {
        "colab": {
          "base_uri": "https://localhost:8080/",
          "height": 35
        },
        "id": "Ax6xydJO1UFC",
        "outputId": "ed72bfe7-1a5c-48a0-a90f-804bcac01f9d"
      },
      "source": [
        "tf.__version__"
      ],
      "execution_count": 4,
      "outputs": [
        {
          "output_type": "execute_result",
          "data": {
            "application/vnd.google.colaboratory.intrinsic+json": {
              "type": "string"
            },
            "text/plain": [
              "'2.3.0'"
            ]
          },
          "metadata": {
            "tags": []
          },
          "execution_count": 4
        }
      ]
    },
    {
      "cell_type": "markdown",
      "metadata": {
        "id": "Ihirrp9C1kAn"
      },
      "source": [
        "# Preprocessing the Training Set"
      ]
    },
    {
      "cell_type": "code",
      "metadata": {
        "colab": {
          "base_uri": "https://localhost:8080/"
        },
        "id": "-4NVXor01gGQ",
        "outputId": "314dea35-32fe-4db4-f492-65cdd4777c77"
      },
      "source": [
        "train_datagen = ImageDataGenerator(rescale=1./255, shear_range=0.2, zoom_range=0.2, horizontal_flip=True)\r\n",
        "\r\n",
        "training_set = train_datagen.flow_from_directory('/content/gdrive/MyDrive/kaggle_dataset/dogs-cats-dataset/dataset/training_set',\r\n",
        "                                                 target_size=(64,64),\r\n",
        "                                                 batch_size=32,\r\n",
        "                                                 class_mode='binary')"
      ],
      "execution_count": 5,
      "outputs": [
        {
          "output_type": "stream",
          "text": [
            "Found 8000 images belonging to 2 classes.\n"
          ],
          "name": "stdout"
        }
      ]
    },
    {
      "cell_type": "markdown",
      "metadata": {
        "id": "sehJavaXnXnQ"
      },
      "source": [
        "# Preprocessing the Test set"
      ]
    },
    {
      "cell_type": "code",
      "metadata": {
        "colab": {
          "base_uri": "https://localhost:8080/"
        },
        "id": "8chq394S14YM",
        "outputId": "883f2a51-fbad-411a-9d58-58542835b09e"
      },
      "source": [
        "test_datagen = ImageDataGenerator(rescale=1./255)\r\n",
        "\r\n",
        "test_set = test_datagen.flow_from_directory('/content/gdrive/MyDrive/kaggle_dataset/dogs-cats-dataset/dataset/test_set',\r\n",
        "                                            target_size=(64,64),\r\n",
        "                                            batch_size=32,\r\n",
        "                                            class_mode='binary')"
      ],
      "execution_count": 6,
      "outputs": [
        {
          "output_type": "stream",
          "text": [
            "Found 2000 images belonging to 2 classes.\n"
          ],
          "name": "stdout"
        }
      ]
    },
    {
      "cell_type": "code",
      "metadata": {
        "id": "VOnSWXMG25Kt"
      },
      "source": [
        "from tensorflow.keras.layers import Conv2D"
      ],
      "execution_count": 7,
      "outputs": []
    },
    {
      "cell_type": "markdown",
      "metadata": {
        "id": "bXjB_kk63IU8"
      },
      "source": [
        "Building The CNN "
      ]
    },
    {
      "cell_type": "code",
      "metadata": {
        "id": "oameWUaH3GO3"
      },
      "source": [
        "cnn = tf.keras.models.Sequential()\r\n",
        "\r\n",
        "# Step 1 - Convolution\r\n",
        "cnn.add(tf.keras.layers.Conv2D(filters=32,padding=\"same\",kernel_size=3, activation='relu', input_shape=[64, 64, 3]))\r\n",
        "\r\n",
        "# Step 2 - Pooling\r\n",
        "cnn.add(tf.keras.layers.MaxPool2D(pool_size=2, strides=2))\r\n",
        "\r\n",
        "# Adding a second convolutional layer\r\n",
        "cnn.add(tf.keras.layers.Conv2D(filters=32,padding='same',kernel_size=3, activation='relu'))\r\n",
        "cnn.add(tf.keras.layers.MaxPool2D(pool_size=2, strides=2))\r\n",
        "\r\n",
        "# Step 3 - Flattening\r\n",
        "cnn.add(tf.keras.layers.Flatten())\r\n",
        "\r\n",
        "# Step 4 - Full Connection\r\n",
        "cnn.add(tf.keras.layers.Dense(units=128, activation='relu'))\r\n",
        "\r\n",
        "# Step 5 - Output Layer\r\n",
        "cnn.add(tf.keras.layers.Dense(units=1, activation='sigmoid'))"
      ],
      "execution_count": 8,
      "outputs": []
    },
    {
      "cell_type": "code",
      "metadata": {
        "colab": {
          "base_uri": "https://localhost:8080/"
        },
        "id": "Fehe8vc03mrG",
        "outputId": "f0d29c2a-bd99-4590-b011-d3080359fb24"
      },
      "source": [
        "cnn.summary()"
      ],
      "execution_count": 9,
      "outputs": [
        {
          "output_type": "stream",
          "text": [
            "Model: \"sequential\"\n",
            "_________________________________________________________________\n",
            "Layer (type)                 Output Shape              Param #   \n",
            "=================================================================\n",
            "conv2d (Conv2D)              (None, 64, 64, 32)        896       \n",
            "_________________________________________________________________\n",
            "max_pooling2d (MaxPooling2D) (None, 32, 32, 32)        0         \n",
            "_________________________________________________________________\n",
            "conv2d_1 (Conv2D)            (None, 32, 32, 32)        9248      \n",
            "_________________________________________________________________\n",
            "max_pooling2d_1 (MaxPooling2 (None, 16, 16, 32)        0         \n",
            "_________________________________________________________________\n",
            "flatten (Flatten)            (None, 8192)              0         \n",
            "_________________________________________________________________\n",
            "dense (Dense)                (None, 128)               1048704   \n",
            "_________________________________________________________________\n",
            "dense_1 (Dense)              (None, 1)                 129       \n",
            "=================================================================\n",
            "Total params: 1,058,977\n",
            "Trainable params: 1,058,977\n",
            "Non-trainable params: 0\n",
            "_________________________________________________________________\n"
          ],
          "name": "stdout"
        }
      ]
    },
    {
      "cell_type": "markdown",
      "metadata": {
        "id": "zIh1EjDR_f8y"
      },
      "source": [
        "Training the CNN"
      ]
    },
    {
      "cell_type": "code",
      "metadata": {
        "colab": {
          "base_uri": "https://localhost:8080/"
        },
        "id": "Qv-ajKnf_dmx",
        "outputId": "c779c4d7-ae50-4a9e-d529-faa3c54a8171"
      },
      "source": [
        "# Compiling the CNN\r\n",
        "cnn.compile(optimizer='adam', loss='binary_crossentropy',metrics=['accuracy'])\r\n",
        "\r\n",
        "# Training the CNN on train set and evalute the test set\r\n",
        "cnn.fit(x=training_set, validation_data=test_set,epochs=30)"
      ],
      "execution_count": 10,
      "outputs": [
        {
          "output_type": "stream",
          "text": [
            "Epoch 1/30\n",
            "250/250 [==============================] - 2270s 9s/step - loss: 0.6702 - accuracy: 0.5814 - val_loss: 0.6460 - val_accuracy: 0.6340\n",
            "Epoch 2/30\n",
            "250/250 [==============================] - 42s 167ms/step - loss: 0.5908 - accuracy: 0.6837 - val_loss: 0.6092 - val_accuracy: 0.6725\n",
            "Epoch 3/30\n",
            "250/250 [==============================] - 42s 169ms/step - loss: 0.5511 - accuracy: 0.7189 - val_loss: 0.5537 - val_accuracy: 0.7245\n",
            "Epoch 4/30\n",
            "250/250 [==============================] - 43s 171ms/step - loss: 0.5323 - accuracy: 0.7371 - val_loss: 0.5079 - val_accuracy: 0.7555\n",
            "Epoch 5/30\n",
            "250/250 [==============================] - 42s 170ms/step - loss: 0.4989 - accuracy: 0.7499 - val_loss: 0.4924 - val_accuracy: 0.7660\n",
            "Epoch 6/30\n",
            "250/250 [==============================] - 42s 167ms/step - loss: 0.4837 - accuracy: 0.7653 - val_loss: 0.5089 - val_accuracy: 0.7510\n",
            "Epoch 7/30\n",
            "250/250 [==============================] - 42s 169ms/step - loss: 0.4701 - accuracy: 0.7692 - val_loss: 0.4712 - val_accuracy: 0.7830\n",
            "Epoch 8/30\n",
            "250/250 [==============================] - 42s 169ms/step - loss: 0.4503 - accuracy: 0.7894 - val_loss: 0.4754 - val_accuracy: 0.7755\n",
            "Epoch 9/30\n",
            "250/250 [==============================] - 42s 168ms/step - loss: 0.4386 - accuracy: 0.7962 - val_loss: 0.4488 - val_accuracy: 0.7860\n",
            "Epoch 10/30\n",
            "250/250 [==============================] - 42s 168ms/step - loss: 0.4188 - accuracy: 0.8041 - val_loss: 0.5026 - val_accuracy: 0.7840\n",
            "Epoch 11/30\n",
            "250/250 [==============================] - 42s 167ms/step - loss: 0.4117 - accuracy: 0.8100 - val_loss: 0.4844 - val_accuracy: 0.7715\n",
            "Epoch 12/30\n",
            "250/250 [==============================] - 42s 170ms/step - loss: 0.3975 - accuracy: 0.8177 - val_loss: 0.4566 - val_accuracy: 0.8020\n",
            "Epoch 13/30\n",
            "250/250 [==============================] - 42s 167ms/step - loss: 0.3946 - accuracy: 0.8155 - val_loss: 0.4728 - val_accuracy: 0.7820\n",
            "Epoch 14/30\n",
            "250/250 [==============================] - 43s 171ms/step - loss: 0.3637 - accuracy: 0.8369 - val_loss: 0.4555 - val_accuracy: 0.8065\n",
            "Epoch 15/30\n",
            "250/250 [==============================] - 43s 173ms/step - loss: 0.3549 - accuracy: 0.8386 - val_loss: 0.4295 - val_accuracy: 0.8110\n",
            "Epoch 16/30\n",
            "250/250 [==============================] - 43s 171ms/step - loss: 0.3416 - accuracy: 0.8522 - val_loss: 0.4806 - val_accuracy: 0.7935\n",
            "Epoch 17/30\n",
            "250/250 [==============================] - 41s 165ms/step - loss: 0.3289 - accuracy: 0.8558 - val_loss: 0.4999 - val_accuracy: 0.7950\n",
            "Epoch 18/30\n",
            "250/250 [==============================] - 40s 161ms/step - loss: 0.3268 - accuracy: 0.8549 - val_loss: 0.4566 - val_accuracy: 0.8055\n",
            "Epoch 19/30\n",
            "250/250 [==============================] - 41s 162ms/step - loss: 0.3099 - accuracy: 0.8627 - val_loss: 0.4696 - val_accuracy: 0.8035\n",
            "Epoch 20/30\n",
            "250/250 [==============================] - 40s 159ms/step - loss: 0.3043 - accuracy: 0.8698 - val_loss: 0.5114 - val_accuracy: 0.7925\n",
            "Epoch 21/30\n",
            "250/250 [==============================] - 39s 157ms/step - loss: 0.2876 - accuracy: 0.8781 - val_loss: 0.5275 - val_accuracy: 0.7975\n",
            "Epoch 22/30\n",
            "250/250 [==============================] - 39s 157ms/step - loss: 0.2736 - accuracy: 0.8848 - val_loss: 0.5038 - val_accuracy: 0.8030\n",
            "Epoch 23/30\n",
            "250/250 [==============================] - 39s 157ms/step - loss: 0.2595 - accuracy: 0.8901 - val_loss: 0.4955 - val_accuracy: 0.8035\n",
            "Epoch 24/30\n",
            "250/250 [==============================] - 39s 156ms/step - loss: 0.2460 - accuracy: 0.8949 - val_loss: 0.5032 - val_accuracy: 0.8010\n",
            "Epoch 25/30\n",
            "250/250 [==============================] - 39s 155ms/step - loss: 0.2324 - accuracy: 0.9053 - val_loss: 0.6361 - val_accuracy: 0.7820\n",
            "Epoch 26/30\n",
            "250/250 [==============================] - 39s 155ms/step - loss: 0.2354 - accuracy: 0.8986 - val_loss: 0.5360 - val_accuracy: 0.7990\n",
            "Epoch 27/30\n",
            "250/250 [==============================] - 40s 159ms/step - loss: 0.2206 - accuracy: 0.9079 - val_loss: 0.5693 - val_accuracy: 0.7920\n",
            "Epoch 28/30\n",
            "250/250 [==============================] - 39s 155ms/step - loss: 0.2051 - accuracy: 0.9153 - val_loss: 0.5517 - val_accuracy: 0.8025\n",
            "Epoch 29/30\n",
            "250/250 [==============================] - 39s 156ms/step - loss: 0.2046 - accuracy: 0.9172 - val_loss: 0.5990 - val_accuracy: 0.7995\n",
            "Epoch 30/30\n",
            "250/250 [==============================] - 39s 155ms/step - loss: 0.1877 - accuracy: 0.9222 - val_loss: 0.6035 - val_accuracy: 0.8060\n"
          ],
          "name": "stdout"
        },
        {
          "output_type": "execute_result",
          "data": {
            "text/plain": [
              "<tensorflow.python.keras.callbacks.History at 0x7f9de620fcf8>"
            ]
          },
          "metadata": {
            "tags": []
          },
          "execution_count": 10
        }
      ]
    },
    {
      "cell_type": "markdown",
      "metadata": {
        "id": "zmyxIDT5fu4U"
      },
      "source": [
        " save it as a h5 file"
      ]
    },
    {
      "cell_type": "code",
      "metadata": {
        "id": "GgaPfG22APjq"
      },
      "source": [
        "from tensorflow.keras.models import load_model\r\n",
        "\r\n",
        "cnn.save('/content/gdrive/MyDrive/Colab Notebooks/Cat Dog Classification/model_rcat_dog.h5')"
      ],
      "execution_count": 11,
      "outputs": []
    },
    {
      "cell_type": "code",
      "metadata": {
        "id": "yMlHOlwgf2_w"
      },
      "source": [
        "from tensorflow.keras.models import load_model\r\n",
        " \r\n",
        "# load model\r\n",
        "model = load_model('/content/gdrive/MyDrive/Colab Notebooks/Cat Dog Classification/model_rcat_dog.h5')"
      ],
      "execution_count": 12,
      "outputs": []
    },
    {
      "cell_type": "code",
      "metadata": {
        "colab": {
          "base_uri": "https://localhost:8080/"
        },
        "id": "a1aNaK6HjxGp",
        "outputId": "cb02f3d8-a512-405c-eabc-f7772ea15a64"
      },
      "source": [
        "model.summary()"
      ],
      "execution_count": 13,
      "outputs": [
        {
          "output_type": "stream",
          "text": [
            "Model: \"sequential\"\n",
            "_________________________________________________________________\n",
            "Layer (type)                 Output Shape              Param #   \n",
            "=================================================================\n",
            "conv2d (Conv2D)              (None, 64, 64, 32)        896       \n",
            "_________________________________________________________________\n",
            "max_pooling2d (MaxPooling2D) (None, 32, 32, 32)        0         \n",
            "_________________________________________________________________\n",
            "conv2d_1 (Conv2D)            (None, 32, 32, 32)        9248      \n",
            "_________________________________________________________________\n",
            "max_pooling2d_1 (MaxPooling2 (None, 16, 16, 32)        0         \n",
            "_________________________________________________________________\n",
            "flatten (Flatten)            (None, 8192)              0         \n",
            "_________________________________________________________________\n",
            "dense (Dense)                (None, 128)               1048704   \n",
            "_________________________________________________________________\n",
            "dense_1 (Dense)              (None, 1)                 129       \n",
            "=================================================================\n",
            "Total params: 1,058,977\n",
            "Trainable params: 1,058,977\n",
            "Non-trainable params: 0\n",
            "_________________________________________________________________\n"
          ],
          "name": "stdout"
        }
      ]
    },
    {
      "cell_type": "markdown",
      "metadata": {
        "id": "a9KiK-GMj1bf"
      },
      "source": [
        "# Part 4 - Making a single prediction"
      ]
    },
    {
      "cell_type": "code",
      "metadata": {
        "id": "oS0b1cGsjy_D"
      },
      "source": [
        "import numpy as np\r\n",
        "from tensorflow.keras.preprocessing import image\r\n",
        "test_img = image.load_img('/content/gdrive/MyDrive/kaggle_dataset/dogs-cats-dataset/dataset/test_set/dogs/dog.4003.jpg',target_size= (64,64))\r\n",
        "test_img = image.img_to_array(test_img)\r\n",
        "test_img = test_img/255\r\n",
        "test_img = np.expand_dims(test_img, axis = 0)\r\n",
        "result = cnn.predict(test_img)"
      ],
      "execution_count": 14,
      "outputs": []
    },
    {
      "cell_type": "code",
      "metadata": {
        "colab": {
          "base_uri": "https://localhost:8080/"
        },
        "id": "BydltvGSl1ZT",
        "outputId": "c414a711-416d-47f5-abd6-fbaa9a456a4b"
      },
      "source": [
        "result"
      ],
      "execution_count": 15,
      "outputs": [
        {
          "output_type": "execute_result",
          "data": {
            "text/plain": [
              "array([[0.99999726]], dtype=float32)"
            ]
          },
          "metadata": {
            "tags": []
          },
          "execution_count": 15
        }
      ]
    },
    {
      "cell_type": "code",
      "metadata": {
        "colab": {
          "base_uri": "https://localhost:8080/"
        },
        "id": "2EjCGrQpmAT3",
        "outputId": "55c80b0a-136e-4f84-d89e-9d91b98c2755"
      },
      "source": [
        "if result[0]<=0.5:\r\n",
        "    print(\"The image classified is cat\")\r\n",
        "else:\r\n",
        "    print(\"The image classified is dog\")"
      ],
      "execution_count": 16,
      "outputs": [
        {
          "output_type": "stream",
          "text": [
            "The image classified is dog\n"
          ],
          "name": "stdout"
        }
      ]
    },
    {
      "cell_type": "code",
      "metadata": {
        "id": "InkdW_Q-mDGm"
      },
      "source": [
        "import numpy as np\r\n",
        "from tensorflow.keras.preprocessing import image\r\n",
        "test_img = image.load_img('/content/gdrive/MyDrive/kaggle_dataset/dogs-cats-dataset/dataset/test_set/cats/cat.4003.jpg',target_size= (64,64))\r\n",
        "test_img = image.img_to_array(test_img)\r\n",
        "test_img = test_img/255\r\n",
        "test_img = np.expand_dims(test_img, axis = 0)\r\n",
        "result = cnn.predict(test_img)"
      ],
      "execution_count": 17,
      "outputs": []
    },
    {
      "cell_type": "code",
      "metadata": {
        "colab": {
          "base_uri": "https://localhost:8080/"
        },
        "id": "YE1FLxLWmfpD",
        "outputId": "c95e7018-3075-4368-c265-c55a081918a7"
      },
      "source": [
        "result"
      ],
      "execution_count": 18,
      "outputs": [
        {
          "output_type": "execute_result",
          "data": {
            "text/plain": [
              "array([[0.02109589]], dtype=float32)"
            ]
          },
          "metadata": {
            "tags": []
          },
          "execution_count": 18
        }
      ]
    },
    {
      "cell_type": "code",
      "metadata": {
        "colab": {
          "base_uri": "https://localhost:8080/"
        },
        "id": "Rm1oZl72mgih",
        "outputId": "98b292ce-589a-4c1c-f1c0-3fac8d9853e5"
      },
      "source": [
        "if result[0]<=0.5:\r\n",
        "  print(\"The image classified is cat\")\r\n",
        "else:\r\n",
        "  print(\"The image classified is dog\")"
      ],
      "execution_count": 19,
      "outputs": [
        {
          "output_type": "stream",
          "text": [
            "The image classified is cat\n"
          ],
          "name": "stdout"
        }
      ]
    },
    {
      "cell_type": "code",
      "metadata": {
        "id": "pframgbNmpy-"
      },
      "source": [
        ""
      ],
      "execution_count": null,
      "outputs": []
    }
  ]
}